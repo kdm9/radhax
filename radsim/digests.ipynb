{
 "cells": [
  {
   "cell_type": "code",
   "execution_count": 13,
   "metadata": {
    "collapsed": true
   },
   "outputs": [],
   "source": [
    "from Bio.Seq import Seq\n",
    "from Bio.Alphabet.IUPAC import IUPACAmbiguousDNA\n",
    "from Bio.Restriction import RestrictionBatch, EcoRI, PstI"
   ]
  },
  {
   "cell_type": "code",
   "execution_count": 14,
   "metadata": {
    "collapsed": false
   },
   "outputs": [],
   "source": [
    "multi_site = Seq('NNCTGCAG' + 'G' * 40 + PstI.site + 'NCTGCAGNNNNNGAATTCNNNNNNNNNCAGCTGCAGCTG', IUPACAmbiguousDNA())"
   ]
  },
  {
   "cell_type": "code",
   "execution_count": 24,
   "metadata": {
    "collapsed": false
   },
   "outputs": [
    {
     "name": "stdout",
     "output_type": "stream",
     "text": [
      "NNCTGCAGGGGGGGGGGGGGGGGGGGGGGGGGGGGGGGGGGGGGGGGGCTGCAGNCTGCAGNNNNNGAATTCNNNNNNNNNCAGCTGCAGCTG\n",
      "012345678901234567890123456789012345678901234567890123456789012345678901234567890123456789012\n",
      "0         1         2         3         4         5         6         7         8\n"
     ]
    }
   ],
   "source": [
    "print str(multi_site)\n",
    "print ''.join([str((x) %10) for x in range(len(multi_site))])\n",
    "print '         '.join([str(x) for x in range(len(multi_site) / 10)])"
   ]
  },
  {
   "cell_type": "code",
   "execution_count": 25,
   "metadata": {
    "collapsed": false
   },
   "outputs": [],
   "source": [
    "rb = RestrictionBatch([PstI, EcoRI])"
   ]
  },
  {
   "cell_type": "code",
   "execution_count": 26,
   "metadata": {
    "collapsed": false
   },
   "outputs": [
    {
     "name": "stdout",
     "output_type": "stream",
     "text": [
      "{PstI: [8, 54, 61, 90], EcoRI: [68]}\n"
     ]
    }
   ],
   "source": [
    "x = rb.search(multi_site)\n",
    "print x"
   ]
  },
  {
   "cell_type": "code",
   "execution_count": 18,
   "metadata": {
    "collapsed": false
   },
   "outputs": [],
   "source": [
    "sites = {}\n",
    "for enz, cuts in x.items():\n",
    "    for cut in cuts:\n",
    "        sites[cut] = enz\n"
   ]
  },
  {
   "cell_type": "code",
   "execution_count": 19,
   "metadata": {
    "collapsed": false
   },
   "outputs": [
    {
     "name": "stdout",
     "output_type": "stream",
     "text": [
      "[(8, PstI), (54, PstI), (61, PstI), (68, EcoRI), (90, PstI)]\n"
     ]
    }
   ],
   "source": [
    "print sorted(sites.items())"
   ]
  },
  {
   "cell_type": "code",
   "execution_count": 36,
   "metadata": {
    "collapsed": false
   },
   "outputs": [
    {
     "name": "stdout",
     "output_type": "stream",
     "text": [
      "8 PstI\n",
      "54 PstI\n",
      "[2, 54]\n",
      "CTGCAGGGGGGGGGGGGGGGGGGGGGGGGGGGGGGGGGGGGGGGGGCTGCAG\n",
      "61 PstI\n",
      "[48, 61]\n",
      "CTGCAGNCTGCAG\n",
      "68 EcoRI\n",
      "[55, 72]\n",
      "CTGCAGNNNNNGAATTC\n",
      "90 PstI\n",
      "[66, 90]\n",
      "GAATTCNNNNNNNNNCAGCTGCAG\n"
     ]
    }
   ],
   "source": [
    "last_enz = None\n",
    "this_pair = None\n",
    "for site, enz in sorted(sites.items()):\n",
    "    print site, enz\n",
    "    if this_pair is None:\n",
    "        # special case in the first loop\n",
    "        this_pair = [None, site + enz.fst3 - 1 + enz.size]\n",
    "        last_enz = enz\n",
    "        continue\n",
    "    this_pair[0] = this_pair[1] - last_enz.size\n",
    "    this_pair[1] = site + enz.fst3 - 1 + enz.size\n",
    "\n",
    "    print this_pair\n",
    "    print multi_site[this_pair[0]:this_pair[1]]\n",
    "    last_enz = enz"
   ]
  },
  {
   "cell_type": "code",
   "execution_count": 11,
   "metadata": {
    "collapsed": false
   },
   "outputs": [
    {
     "data": {
      "text/plain": [
       "-1"
      ]
     },
     "execution_count": 11,
     "metadata": {},
     "output_type": "execute_result"
    }
   ],
   "source": [
    "EcoRI.fst3"
   ]
  },
  {
   "cell_type": "code",
   "execution_count": 37,
   "metadata": {
    "collapsed": false
   },
   "outputs": [
    {
     "data": {
      "text/plain": [
       "-5"
      ]
     },
     "execution_count": 37,
     "metadata": {},
     "output_type": "execute_result"
    }
   ],
   "source": [
    "PstI.fst3"
   ]
  },
  {
   "cell_type": "code",
   "execution_count": null,
   "metadata": {
    "collapsed": true
   },
   "outputs": [],
   "source": []
  },
  {
   "cell_type": "code",
   "execution_count": null,
   "metadata": {
    "collapsed": true
   },
   "outputs": [],
   "source": []
  },
  {
   "cell_type": "code",
   "execution_count": null,
   "metadata": {
    "collapsed": true
   },
   "outputs": [],
   "source": []
  },
  {
   "cell_type": "code",
   "execution_count": null,
   "metadata": {
    "collapsed": true
   },
   "outputs": [],
   "source": []
  },
  {
   "cell_type": "code",
   "execution_count": null,
   "metadata": {
    "collapsed": true
   },
   "outputs": [],
   "source": []
  },
  {
   "cell_type": "code",
   "execution_count": null,
   "metadata": {
    "collapsed": true
   },
   "outputs": [],
   "source": []
  },
  {
   "cell_type": "code",
   "execution_count": null,
   "metadata": {
    "collapsed": true
   },
   "outputs": [],
   "source": []
  },
  {
   "cell_type": "code",
   "execution_count": null,
   "metadata": {
    "collapsed": true
   },
   "outputs": [],
   "source": []
  },
  {
   "cell_type": "code",
   "execution_count": null,
   "metadata": {
    "collapsed": true
   },
   "outputs": [],
   "source": []
  },
  {
   "cell_type": "code",
   "execution_count": null,
   "metadata": {
    "collapsed": true
   },
   "outputs": [],
   "source": []
  },
  {
   "cell_type": "code",
   "execution_count": null,
   "metadata": {
    "collapsed": true
   },
   "outputs": [],
   "source": []
  },
  {
   "cell_type": "code",
   "execution_count": null,
   "metadata": {
    "collapsed": true
   },
   "outputs": [],
   "source": []
  },
  {
   "cell_type": "code",
   "execution_count": null,
   "metadata": {
    "collapsed": true
   },
   "outputs": [],
   "source": []
  },
  {
   "cell_type": "code",
   "execution_count": null,
   "metadata": {
    "collapsed": true
   },
   "outputs": [],
   "source": []
  },
  {
   "cell_type": "code",
   "execution_count": null,
   "metadata": {
    "collapsed": true
   },
   "outputs": [],
   "source": []
  }
 ],
 "metadata": {
  "kernelspec": {
   "display_name": "Python 2",
   "language": "python",
   "name": "python2"
  },
  "language_info": {
   "codemirror_mode": {
    "name": "ipython",
    "version": 2
   },
   "file_extension": ".py",
   "mimetype": "text/x-python",
   "name": "python",
   "nbconvert_exporter": "python",
   "pygments_lexer": "ipython2",
   "version": "2.7.10"
  }
 },
 "nbformat": 4,
 "nbformat_minor": 0
}
